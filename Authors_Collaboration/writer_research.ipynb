{
 "cells": [
  {
   "cell_type": "code",
   "execution_count": 3,
   "id": "122a6af9-3bd8-43fd-ba79-c7316047e738",
   "metadata": {},
   "outputs": [
    {
     "name": "stdout",
     "output_type": "stream",
     "text": [
      "Analysis parameters:\n",
      "  File: all_articles_w_writers.jsonl\n",
      "  Output directory: results_writers_all\n",
      "  Debug mode: No\n",
      "  Minimum articles per author: 10\n",
      "  Minimum citations per article: 0\n",
      "Starting academic collaboration analysis for OpenAlex data...\n",
      "Filtering for authors with at least 10 articles\n",
      "Loaded 319305 articles from JSON file\n",
      "First pass: counting articles per author...\n",
      "Found 1215081 unique authors\n",
      "Authors with 10+ articles: 29911\n",
      "Processed 96885 articles after filtering\n",
      "Data preparation took 175.89 seconds\n",
      "Analyzing 96885 articles spanning from 2023-01 to 2024-12\n",
      "\n",
      "Sample of processed data:\n",
      "                                                   title  ...          main_writer\n",
      "0                                Cancer statistics, 2023  ...    Rebecca L. Siegel\n",
      "51194  NOEMA Detection of Circumnuclear Molecular Gas...  ...           Luis C. Ho\n",
      "13275  Impact of the Covid‐19 pandemic on neuropsychi...  ...         Dag Aarsland\n",
      "13283  Novel banana lectin CAR-T cells to target panc...  ...  Richard D. Cummings\n",
      "13358  Cu(<scp>ii</scp>)-BODIPY photosensitizer for C...  ...  Jonathan L. Sessler\n",
      "\n",
      "[5 rows x 3 columns]\n",
      "\n",
      "Number of unique authors: 29773\n",
      "Number of unique fields: 27\n",
      "Network construction took 10.04 seconds\n",
      "Built network with 29773 authors and 818595 collaborations\n",
      "/Users/arbili/Max/Agent/src/miki/writers_analysis.py:580: FutureWarning: 'M' is deprecated and will be removed in a future version, please use 'ME' instead.\n",
      "  time_bins = pd.date_range(start=df['date'].min(), end=df['date'].max(), freq=interval)\n",
      "Temporal analysis took 20.22 seconds\n",
      "Completed temporal analysis across 3 time periods\n",
      "Field analysis took 36.34 seconds\n",
      "Completed field analysis across 27 fields\n",
      "Interdisciplinary analysis took 12.88 seconds\n",
      "Completed interdisciplinary analysis\n",
      "Key player analysis took 20586.75 seconds\n",
      "Identified top 20 collaborators\n",
      "Generating visualizations...\n",
      "Network is large (29773 nodes). Creating simplified visualization.\n",
      "Visualization generation took 10.34 seconds\n",
      "Results saved to results_writers_all\n",
      "\n",
      "Top collaborative pairs:\n",
      "  Christine E Nelson and Christine E Nelson: 351 collaborations\n",
      "  Kenji Watanabe and Takashi Taniguchi: 186 collaborations\n",
      "  F. De Mori and Y. Ding: 145 collaborations\n",
      "  Henrik Zetterberg and Kaj Blennow: 131 collaborations\n",
      "  Y. Ding and Yang Gao: 128 collaborations\n",
      "\n",
      "Total analysis time: 20868.06 seconds\n",
      "\n",
      "Analysis complete!\n",
      "Analysis complete. Results saved to results_writers_all\n"
     ]
    }
   ],
   "source": [
    "!python writers_analysis.py all_articles_w_writers.jsonl --min_articles 10 --output_dir results_writers_all"
   ]
  },
  {
   "cell_type": "code",
   "execution_count": null,
   "id": "0b870929-1056-40e7-9247-9c4db4947d16",
   "metadata": {},
   "outputs": [],
   "source": []
  }
 ],
 "metadata": {
  "kernelspec": {
   "display_name": "Python 3 (bgu)",
   "language": "python",
   "name": "bgu"
  },
  "language_info": {
   "codemirror_mode": {
    "name": "ipython",
    "version": 3
   },
   "file_extension": ".py",
   "mimetype": "text/x-python",
   "name": "python",
   "nbconvert_exporter": "python",
   "pygments_lexer": "ipython3",
   "version": "3.10.5"
  }
 },
 "nbformat": 4,
 "nbformat_minor": 5
}
